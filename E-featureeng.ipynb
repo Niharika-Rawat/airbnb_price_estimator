{
 "cells": [
  {
   "cell_type": "code",
   "execution_count": 1,
   "id": "ebe450eb",
   "metadata": {},
   "outputs": [],
   "source": [
    "import pandas as pd\n",
    "df = pd.read_csv('/Users/niharikarawat/Documents/VSCODE/airbnb_price_estimator/D-cleaned_airbnb.csv')"
   ]
  },
  {
   "cell_type": "code",
   "execution_count": 2,
   "id": "a62274da",
   "metadata": {},
   "outputs": [
    {
     "name": "stdout",
     "output_type": "stream",
     "text": [
      "<class 'pandas.core.frame.DataFrame'>\n",
      "RangeIndex: 38100 entries, 0 to 38099\n",
      "Data columns (total 10 columns):\n",
      " #   Column             Non-Null Count  Dtype  \n",
      "---  ------             --------------  -----  \n",
      " 0   host_id            38100 non-null  int64  \n",
      " 1   neighbourhood      38100 non-null  object \n",
      " 2   latitude           38100 non-null  float64\n",
      " 3   longitude          38100 non-null  float64\n",
      " 4   room_type          38100 non-null  object \n",
      " 5   price              38100 non-null  float64\n",
      " 6   minimum_nights     38100 non-null  int64  \n",
      " 7   number_of_reviews  38100 non-null  int64  \n",
      " 8   availability_365   38100 non-null  int64  \n",
      " 9   city               38100 non-null  object \n",
      "dtypes: float64(3), int64(4), object(3)\n",
      "memory usage: 2.9+ MB\n",
      "            host_id      latitude     longitude         price  minimum_nights  \\\n",
      "count  3.810000e+04  38100.000000  38100.000000  38100.000000    38100.000000   \n",
      "mean   2.034773e+08     34.652103   -119.076606    379.565223       12.897822   \n",
      "std    2.048246e+08      1.736064      1.879359    410.180511       22.373415   \n",
      "min    2.900000e+01     32.545233   -122.499940     50.000000        1.000000   \n",
      "25%    2.507245e+07     33.847915   -121.669044    186.000000        2.000000   \n",
      "50%    1.074344e+08     34.074680   -118.371830    254.000000        3.000000   \n",
      "75%    3.953181e+08     36.619500   -118.111006    398.000000       30.000000   \n",
      "max    7.013313e+08     37.866970   -117.003800   5000.000000      700.000000   \n",
      "\n",
      "       number_of_reviews  availability_365  \n",
      "count       38100.000000      38100.000000  \n",
      "mean           47.413990        236.333176  \n",
      "std            83.284009        111.817519  \n",
      "min             0.000000          0.000000  \n",
      "25%             1.000000        150.000000  \n",
      "50%            11.000000        266.000000  \n",
      "75%            54.000000        337.000000  \n",
      "max           448.000000        365.000000  \n"
     ]
    }
   ],
   "source": [
    "df.info()\n",
    "print(df.describe())"
   ]
  },
  {
   "cell_type": "code",
   "execution_count": 3,
   "id": "799ae36c",
   "metadata": {},
   "outputs": [
    {
     "data": {
      "text/plain": [
       "array(['san_diego-ca', 'oakland-ca', 'pacific_grove-ca',\n",
       "       'san_francisco-ca', 'santa_cruz_county-ca',\n",
       "       'santa_clara_county-ca', 'los_angeles-ca', 'san_mateo_county-ca'],\n",
       "      dtype=object)"
      ]
     },
     "execution_count": 3,
     "metadata": {},
     "output_type": "execute_result"
    }
   ],
   "source": [
    "df['city'].unique()"
   ]
  },
  {
   "cell_type": "code",
   "execution_count": 4,
   "id": "e49ee598",
   "metadata": {},
   "outputs": [],
   "source": [
    "df['city'] = df['city'].replace({'san_diego-ca': 'san diego', 'oakland-ca': 'oakland', 'pacific_grove-ca': 'pacific grove', 'san_francisco-ca': 'san francisco', 'santa_cruz_county-ca': 'santa cruz county', 'santa_clara_county-ca': 'santa clara county', 'los_angeles-ca': 'los angeles', 'san_mateo_county-ca': 'san mateo county'})"
   ]
  },
  {
   "cell_type": "code",
   "execution_count": 5,
   "id": "3c496d13",
   "metadata": {},
   "outputs": [],
   "source": [
    "df['listings_per_host'] = df.groupby('host_id')['host_id'].transform('count')\n",
    "df['avg_reviews_per_host'] = df.groupby('host_id')['number_of_reviews'].transform('mean')\n",
    "df = df.drop(columns=['host_id'])"
   ]
  },
  {
   "cell_type": "code",
   "execution_count": 6,
   "id": "96ecf0e6",
   "metadata": {},
   "outputs": [
    {
     "data": {
      "application/vnd.microsoft.datawrangler.viewer.v0+json": {
       "columns": [
        {
         "name": "neighbourhood",
         "rawType": "object",
         "type": "string"
        },
        {
         "name": "neighbourhood",
         "rawType": "int64",
         "type": "integer"
        }
       ],
       "ref": "a32b3864-6c76-443f-9428-80dde3270197",
       "rows": [
        [
         "Sausal Creek",
         "1"
        ],
        [
         "Hasley Canyon",
         "1"
        ],
        [
         "Harrington",
         "1"
        ],
        [
         "Tuxedo",
         "1"
        ],
        [
         "Santa Fe Springs",
         "1"
        ],
        [
         "Fairfax Business-Wentworth-Holland",
         "1"
        ],
        [
         "School",
         "1"
        ],
        [
         "Reservoir Hill-Meadow Brook",
         "1"
        ],
        [
         "Bartlett",
         "1"
        ],
        [
         "Sepulveda Basin",
         "1"
        ],
        [
         "Eastmont",
         "1"
        ],
        [
         "East Whittier",
         "1"
        ],
        [
         "Bella Vista",
         "1"
        ],
        [
         "Columbia Gardens",
         "1"
        ],
        [
         "Treasure Island/YBI",
         "1"
        ],
        [
         "Elizabeth Lake",
         "1"
        ],
        [
         "Rancho San Antonio",
         "1"
        ],
        [
         "Fruitvale Station",
         "1"
        ],
        [
         "Rancho Dominguez",
         "1"
        ],
        [
         "Palm City",
         "1"
        ],
        [
         "Peralta-Hacienda",
         "1"
        ],
        [
         "Lake Los Angeles",
         "1"
        ],
        [
         "Ivy Hill",
         "1"
        ],
        [
         "Irwindale",
         "1"
        ],
        [
         "Brookfield Village",
         "1"
        ],
        [
         "Angeles Crest",
         "1"
        ],
        [
         "Hoover-Foster",
         "1"
        ],
        [
         "Arleta",
         "1"
        ],
        [
         "Foothill Square",
         "2"
        ],
        [
         "Mountain View Cemetery",
         "2"
        ],
        [
         "Chatsworth Reservoir",
         "2"
        ],
        [
         "Terra Nova",
         "2"
        ],
        [
         "Clinton",
         "2"
        ],
        [
         "Coliseum",
         "2"
        ],
        [
         "North Whittier",
         "2"
        ],
        [
         "South Kennedy Tract",
         "2"
        ],
        [
         "Dimond",
         "2"
        ],
        [
         "Sobrante Park",
         "2"
        ],
        [
         "Fremont",
         "2"
        ],
        [
         "Skyline-Hillcrest Estates",
         "2"
        ],
        [
         "Sky Line",
         "2"
        ],
        [
         "Maywood",
         "2"
        ],
        [
         "Hiller Highlands",
         "2"
        ],
        [
         "Lynn-Highland Park",
         "2"
        ],
        [
         "Ridge Route",
         "2"
        ],
        [
         "Golf Links",
         "2"
        ],
        [
         "Merritt",
         "2"
        ],
        [
         "Otay Ranch",
         "2"
        ],
        [
         "Acorn-Acorn Industrial",
         "2"
        ],
        [
         "Avocado Heights",
         "2"
        ]
       ],
       "shape": {
        "columns": 1,
        "rows": 516
       }
      },
      "text/plain": [
       "neighbourhood\n",
       "Sausal Creek               1\n",
       "Hasley Canyon              1\n",
       "Harrington                 1\n",
       "Tuxedo                     1\n",
       "Santa Fe Springs           1\n",
       "                        ... \n",
       "Pacific Beach            851\n",
       "San Jose                 899\n",
       "Venice                   942\n",
       "Unincorporated Areas    1071\n",
       "Mission Bay             1519\n",
       "Name: neighbourhood, Length: 516, dtype: int64"
      ]
     },
     "execution_count": 6,
     "metadata": {},
     "output_type": "execute_result"
    }
   ],
   "source": [
    "df.neighbourhood = df.neighbourhood.apply(lambda x: x.strip())\n",
    "\n",
    "neighbourhood_stats = df.groupby('neighbourhood')['neighbourhood'].agg('count').sort_values(ascending=True)\n",
    "neighbourhood_stats"
   ]
  },
  {
   "cell_type": "code",
   "execution_count": 7,
   "id": "d07344ce",
   "metadata": {},
   "outputs": [
    {
     "data": {
      "text/plain": [
       "253"
      ]
     },
     "execution_count": 7,
     "metadata": {},
     "output_type": "execute_result"
    }
   ],
   "source": [
    "len(neighbourhood_stats[neighbourhood_stats < 20])"
   ]
  },
  {
   "cell_type": "code",
   "execution_count": 8,
   "id": "90c0bdc3",
   "metadata": {},
   "outputs": [
    {
     "data": {
      "application/vnd.microsoft.datawrangler.viewer.v0+json": {
       "columns": [
        {
         "name": "neighbourhood",
         "rawType": "object",
         "type": "string"
        },
        {
         "name": "neighbourhood",
         "rawType": "int64",
         "type": "integer"
        }
       ],
       "ref": "37317dcf-8a38-46cf-a5ed-52d7ca3160e3",
       "rows": [
        [
         "Sausal Creek",
         "1"
        ],
        [
         "Hasley Canyon",
         "1"
        ],
        [
         "Harrington",
         "1"
        ],
        [
         "Tuxedo",
         "1"
        ],
        [
         "Santa Fe Springs",
         "1"
        ],
        [
         "Fairfax Business-Wentworth-Holland",
         "1"
        ],
        [
         "School",
         "1"
        ],
        [
         "Reservoir Hill-Meadow Brook",
         "1"
        ],
        [
         "Bartlett",
         "1"
        ],
        [
         "Sepulveda Basin",
         "1"
        ],
        [
         "Eastmont",
         "1"
        ],
        [
         "East Whittier",
         "1"
        ],
        [
         "Bella Vista",
         "1"
        ],
        [
         "Columbia Gardens",
         "1"
        ],
        [
         "Treasure Island/YBI",
         "1"
        ],
        [
         "Elizabeth Lake",
         "1"
        ],
        [
         "Rancho San Antonio",
         "1"
        ],
        [
         "Fruitvale Station",
         "1"
        ],
        [
         "Rancho Dominguez",
         "1"
        ],
        [
         "Palm City",
         "1"
        ],
        [
         "Peralta-Hacienda",
         "1"
        ],
        [
         "Lake Los Angeles",
         "1"
        ],
        [
         "Ivy Hill",
         "1"
        ],
        [
         "Irwindale",
         "1"
        ],
        [
         "Brookfield Village",
         "1"
        ],
        [
         "Angeles Crest",
         "1"
        ],
        [
         "Hoover-Foster",
         "1"
        ],
        [
         "Arleta",
         "1"
        ],
        [
         "Foothill Square",
         "2"
        ],
        [
         "Mountain View Cemetery",
         "2"
        ],
        [
         "Chatsworth Reservoir",
         "2"
        ],
        [
         "Terra Nova",
         "2"
        ],
        [
         "Clinton",
         "2"
        ],
        [
         "Coliseum",
         "2"
        ],
        [
         "North Whittier",
         "2"
        ],
        [
         "South Kennedy Tract",
         "2"
        ],
        [
         "Dimond",
         "2"
        ],
        [
         "Sobrante Park",
         "2"
        ],
        [
         "Fremont",
         "2"
        ],
        [
         "Skyline-Hillcrest Estates",
         "2"
        ],
        [
         "Sky Line",
         "2"
        ],
        [
         "Maywood",
         "2"
        ],
        [
         "Hiller Highlands",
         "2"
        ],
        [
         "Lynn-Highland Park",
         "2"
        ],
        [
         "Ridge Route",
         "2"
        ],
        [
         "Golf Links",
         "2"
        ],
        [
         "Merritt",
         "2"
        ],
        [
         "Otay Ranch",
         "2"
        ],
        [
         "Acorn-Acorn Industrial",
         "2"
        ],
        [
         "Avocado Heights",
         "2"
        ]
       ],
       "shape": {
        "columns": 1,
        "rows": 253
       }
      },
      "text/plain": [
       "neighbourhood\n",
       "Sausal Creek                  1\n",
       "Hasley Canyon                 1\n",
       "Harrington                    1\n",
       "Tuxedo                        1\n",
       "Santa Fe Springs              1\n",
       "                             ..\n",
       "Boyle Heights                18\n",
       "Southeast Antelope Valley    18\n",
       "Scripps Ranch                18\n",
       "Encanto                      19\n",
       "San Dimas                    19\n",
       "Name: neighbourhood, Length: 253, dtype: int64"
      ]
     },
     "execution_count": 8,
     "metadata": {},
     "output_type": "execute_result"
    }
   ],
   "source": [
    "neighbourhood_stats_less_than_20 = neighbourhood_stats[neighbourhood_stats < 20]\n",
    "neighbourhood_stats_less_than_20"
   ]
  },
  {
   "cell_type": "code",
   "execution_count": 9,
   "id": "b13ed377",
   "metadata": {},
   "outputs": [
    {
     "data": {
      "text/plain": [
       "516"
      ]
     },
     "execution_count": 9,
     "metadata": {},
     "output_type": "execute_result"
    }
   ],
   "source": [
    "len(df.neighbourhood.unique())"
   ]
  },
  {
   "cell_type": "code",
   "execution_count": 10,
   "id": "52bc678a",
   "metadata": {},
   "outputs": [
    {
     "data": {
      "text/plain": [
       "264"
      ]
     },
     "execution_count": 10,
     "metadata": {},
     "output_type": "execute_result"
    }
   ],
   "source": [
    "df.neighbourhood = df.neighbourhood.apply(lambda x: 'other' if x in neighbourhood_stats_less_than_20 else x)\n",
    "len(df.neighbourhood.unique())  "
   ]
  },
  {
   "cell_type": "code",
   "execution_count": 11,
   "id": "c72df983",
   "metadata": {},
   "outputs": [],
   "source": [
    "df[['city', 'neighbourhood']].to_csv('/Users/niharikarawat/Documents/VSCODE/airbnb_price_estimator/F-city_neighbourhood_map.csv', index=False)"
   ]
  },
  {
   "cell_type": "code",
   "execution_count": 12,
   "id": "91ebc072",
   "metadata": {},
   "outputs": [],
   "source": [
    "neighbourhood_freq = df['neighbourhood'].value_counts().to_dict()\n",
    "df['neighbourhood_freq'] = df['neighbourhood'].map(neighbourhood_freq)"
   ]
  },
  {
   "cell_type": "code",
   "execution_count": 13,
   "id": "ca5a8f57",
   "metadata": {},
   "outputs": [],
   "source": [
    "df = pd.get_dummies(df, columns=['neighbourhood'], drop_first=False)"
   ]
  },
  {
   "cell_type": "code",
   "execution_count": 14,
   "id": "b5149bf2",
   "metadata": {},
   "outputs": [],
   "source": [
    "from math import radians, sin, cos, sqrt, atan2\n",
    "\n",
    "def haversine(lat1, lon1, lat2, lon2):\n",
    "    \"\"\"\n",
    "    Calculate the great-circle distance between two points \n",
    "    on the Earth (specified in decimal degrees).\n",
    "    Returns distance in kilometers.\n",
    "    \"\"\"\n",
    "    R = 6371.0  # Radius of the Earth in kilometers\n",
    "\n",
    "    # Convert decimal degrees to radians\n",
    "    lat1, lon1, lat2, lon2 = map(radians, [lat1, lon1, lat2, lon2])\n",
    "\n",
    "    # Difference in coordinates\n",
    "    dlat = lat2 - lat1\n",
    "    dlon = lon2 - lon1\n",
    "\n",
    "    # Haversine formula\n",
    "    a = sin(dlat / 2)**2 + cos(lat1) * cos(lat2) * sin(dlon / 2)**2\n",
    "    c = 2 * atan2(sqrt(a), sqrt(1 - a))\n",
    "\n",
    "    distance = R * c\n",
    "    return distance\n",
    "\n",
    "landmarks = {\n",
    "    'Silicon_Valley(PaloAlto)': (37.4419, -122.1430),\n",
    "    'Stanford_University': (37.4275, -122.1697),\n",
    "    'LAX(Los Angeles International)': (33.9416, -118.4085),\n",
    "    'SFO(San Francisco International)': (37.6213, -122.3790),\n",
    "    'SAN(San Diego International)': (32.7338, -117.1933),\n",
    "    'Golden_Gate_Bridge': (37.8199, -122.4783),\n",
    "    'Santa_Monica_Pier': (34.0100, -118.4962),\n",
    "    'Venice_Beach': (33.9850, -118.4695),\n",
    "    'Disneyland': (33.8121, -117.9190),\n",
    "    'Hollywood_WalkOfFame': (34.1016, -118.3269),\n",
    "    'Universal_Studios': (34.1381, -118.3534),\n",
    "    'Griffith_Observatory': (34.1184, -118.3004),\n",
    "    'Big_Sur': (36.3615, -121.8563),\n",
    "    'Yosemite_Valley': (37.7456, -119.5936),\n",
    "    'Lake_Tahoe': (39.0968, -120.0324)\n",
    "}\n",
    "\n",
    "\n",
    "for name, (lat, lon) in landmarks.items():\n",
    "    col_name = f'dist_to_{name}(in kms)'\n",
    "    df[col_name] = df.apply(\n",
    "        lambda row: haversine(row['latitude'], row['longitude'], lat, lon),\n",
    "        axis=1\n",
    "    )"
   ]
  },
  {
   "cell_type": "code",
   "execution_count": 15,
   "id": "a300ff68",
   "metadata": {},
   "outputs": [],
   "source": [
    "df = pd.get_dummies(df, columns=['room_type'], drop_first=False)"
   ]
  },
  {
   "cell_type": "code",
   "execution_count": 16,
   "id": "0cd826b3",
   "metadata": {},
   "outputs": [],
   "source": [
    "def group_min_nights(x):\n",
    "    if x <= 3:\n",
    "        return 'upto_3_days'\n",
    "    elif x <= 10:\n",
    "        return 'upto_10_days'\n",
    "    elif x <= 90:\n",
    "        return 'upto_3_months'\n",
    "    else:\n",
    "        return 'long_term_rental'\n",
    "\n",
    "df['min_nights_group'] = df['minimum_nights'].apply(group_min_nights)\n",
    "df = pd.get_dummies(df, columns=['min_nights_group'], drop_first=False)\n",
    "df.drop(columns=['minimum_nights'], inplace=True)"
   ]
  },
  {
   "cell_type": "code",
   "execution_count": 17,
   "id": "b0c04c8a",
   "metadata": {},
   "outputs": [],
   "source": [
    "df = pd.get_dummies(df, columns=['city'], prefix='city', drop_first=False)\n"
   ]
  },
  {
   "cell_type": "code",
   "execution_count": 18,
   "id": "7f321143",
   "metadata": {},
   "outputs": [],
   "source": [
    "df = df[df['availability_365'] != 0]\n"
   ]
  },
  {
   "cell_type": "code",
   "execution_count": 19,
   "id": "7aed6c5e",
   "metadata": {},
   "outputs": [],
   "source": [
    "df.to_csv('/Users/niharikarawat/Documents/VSCODE/airbnb_price_estimator/G-featured_airbnb.csv', index=False)"
   ]
  }
 ],
 "metadata": {
  "kernelspec": {
   "display_name": "base",
   "language": "python",
   "name": "python3"
  },
  "language_info": {
   "codemirror_mode": {
    "name": "ipython",
    "version": 3
   },
   "file_extension": ".py",
   "mimetype": "text/x-python",
   "name": "python",
   "nbconvert_exporter": "python",
   "pygments_lexer": "ipython3",
   "version": "3.12.7"
  }
 },
 "nbformat": 4,
 "nbformat_minor": 5
}
