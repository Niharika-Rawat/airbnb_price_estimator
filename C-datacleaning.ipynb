{
 "cells": [
  {
   "cell_type": "code",
   "execution_count": 1,
   "id": "8c092ad8",
   "metadata": {},
   "outputs": [],
   "source": [
    "import pandas as pd\n",
    "df = pd.read_csv('/Users/niharikarawat/Documents/VSCODE/airbnb_price_estimator/B-merged_airbnb.csv')"
   ]
  },
  {
   "cell_type": "code",
   "execution_count": 2,
   "id": "181defc1",
   "metadata": {},
   "outputs": [
    {
     "name": "stdout",
     "output_type": "stream",
     "text": [
      "Index(['id', 'name', 'host_id', 'host_name', 'neighbourhood_group',\n",
      "       'neighbourhood', 'latitude', 'longitude', 'room_type', 'price',\n",
      "       'minimum_nights', 'number_of_reviews', 'last_review',\n",
      "       'reviews_per_month', 'calculated_host_listings_count',\n",
      "       'availability_365', 'number_of_reviews_ltm', 'license', 'city'],\n",
      "      dtype='object')\n"
     ]
    }
   ],
   "source": [
    "print(df.columns)"
   ]
  },
  {
   "cell_type": "code",
   "execution_count": 3,
   "id": "beba986f",
   "metadata": {},
   "outputs": [],
   "source": [
    "df = df.drop(columns = ['id', 'name', 'host_name', 'neighbourhood_group','last_review', 'reviews_per_month', 'number_of_reviews_ltm', 'license', 'calculated_host_listings_count'])"
   ]
  },
  {
   "cell_type": "code",
   "execution_count": 4,
   "id": "187262b4",
   "metadata": {},
   "outputs": [
    {
     "data": {
      "text/plain": [
       "array(['Entire home/apt', 'Private room', 'Shared room', 'Hotel room'],\n",
       "      dtype=object)"
      ]
     },
     "execution_count": 4,
     "metadata": {},
     "output_type": "execute_result"
    }
   ],
   "source": [
    "df['room_type'].unique()"
   ]
  },
  {
   "cell_type": "code",
   "execution_count": 5,
   "id": "7a8b0bf0",
   "metadata": {},
   "outputs": [],
   "source": [
    "df = df.dropna(subset=['price'])"
   ]
  },
  {
   "cell_type": "code",
   "execution_count": 6,
   "id": "608a1d64",
   "metadata": {},
   "outputs": [
    {
     "name": "stdout",
     "output_type": "stream",
     "text": [
      "            host_id      latitude     longitude         price  minimum_nights  \\\n",
      "count  6.566200e+04  65662.000000  65662.000000  65662.000000    65662.000000   \n",
      "mean   2.070268e+08     34.763199   -119.159932    383.024778       14.843319   \n",
      "std    2.085335e+08      1.751923      1.900529   2151.683891       24.209843   \n",
      "min    2.900000e+01     32.540760   -122.519040      7.000000        1.000000   \n",
      "25%    2.548342e+07     33.935310   -121.868670    100.000000        2.000000   \n",
      "50%    1.131378e+08     34.081220   -118.361750    167.000000        3.000000   \n",
      "75%    3.944767e+08     36.975095   -118.126478    289.000000       30.000000   \n",
      "max    7.019628e+08     37.881620   -116.936852  54280.000000      730.000000   \n",
      "\n",
      "       number_of_reviews  availability_365  \n",
      "count       65662.000000      65662.000000  \n",
      "mean           51.351802        234.444367  \n",
      "std           100.631192        111.146222  \n",
      "min             0.000000          0.000000  \n",
      "25%             1.000000        147.000000  \n",
      "50%            10.000000        262.000000  \n",
      "75%            55.000000        336.000000  \n",
      "max          3119.000000        365.000000  \n",
      "<class 'pandas.core.frame.DataFrame'>\n",
      "Index: 65662 entries, 0 to 80738\n",
      "Data columns (total 10 columns):\n",
      " #   Column             Non-Null Count  Dtype  \n",
      "---  ------             --------------  -----  \n",
      " 0   host_id            65662 non-null  int64  \n",
      " 1   neighbourhood      65662 non-null  object \n",
      " 2   latitude           65662 non-null  float64\n",
      " 3   longitude          65662 non-null  float64\n",
      " 4   room_type          65662 non-null  object \n",
      " 5   price              65662 non-null  float64\n",
      " 6   minimum_nights     65662 non-null  int64  \n",
      " 7   number_of_reviews  65662 non-null  int64  \n",
      " 8   availability_365   65662 non-null  int64  \n",
      " 9   city               65662 non-null  object \n",
      "dtypes: float64(3), int64(4), object(3)\n",
      "memory usage: 5.5+ MB\n",
      "None\n"
     ]
    }
   ],
   "source": [
    "print(df.describe())\n",
    "print(df.info())"
   ]
  },
  {
   "cell_type": "code",
   "execution_count": 7,
   "id": "5216a243",
   "metadata": {},
   "outputs": [],
   "source": [
    "price_bounds = {\n",
    "    'Entire home/apt': {'min': 150, 'max': 5000},\n",
    "    'Private room':    {'min': 100, 'max': 500},\n",
    "    'Shared room':     {'min': 50, 'max': 250},\n",
    "    'Hotel room':      {'min': 100, 'max': 5000}\n",
    "}\n",
    "\n",
    "def is_price_valid(row):\n",
    "    bounds = price_bounds[row['room_type']]\n",
    "    return bounds['min'] <= row['price'] <= bounds['max']\n",
    "\n",
    "df = df[df.apply(is_price_valid, axis=1)]"
   ]
  },
  {
   "cell_type": "code",
   "execution_count": 8,
   "id": "4c99faad",
   "metadata": {},
   "outputs": [],
   "source": [
    "min_nights_bounds = {\n",
    "    'min': 1, 'max' : 700\n",
    "}\n",
    "\n",
    "def clip_min_nights(row):\n",
    "    bounds = min_nights_bounds\n",
    "    return max(bounds['min'], min(row['minimum_nights'], bounds['max']))\n",
    "\n",
    "df['minimum_nights'] = df.apply(clip_min_nights, axis=1)"
   ]
  },
  {
   "cell_type": "code",
   "execution_count": 9,
   "id": "b17409d9",
   "metadata": {},
   "outputs": [
    {
     "name": "stdout",
     "output_type": "stream",
     "text": [
      "448.0\n"
     ]
    }
   ],
   "source": [
    "cap = df['number_of_reviews'].quantile(0.99)\n",
    "print(cap)\n",
    "df['number_of_reviews'] = df['number_of_reviews'].clip(upper=cap)"
   ]
  },
  {
   "cell_type": "code",
   "execution_count": 10,
   "id": "da33f924",
   "metadata": {},
   "outputs": [],
   "source": [
    "df = df[\n",
    "    (df['latitude'] >= 32.5) & (df['latitude'] <= 42.0) &\n",
    "    (df['longitude'] >= -122.5) & (df['longitude'] <= -117.0)\n",
    "]\n"
   ]
  },
  {
   "cell_type": "code",
   "execution_count": 11,
   "id": "1b24212c",
   "metadata": {},
   "outputs": [],
   "source": [
    "df.to_csv('/Users/niharikarawat/Documents/VSCODE/airbnb_price_estimator/D-cleaned_airbnb.csv', index=False)"
   ]
  }
 ],
 "metadata": {
  "kernelspec": {
   "display_name": "base",
   "language": "python",
   "name": "python3"
  },
  "language_info": {
   "codemirror_mode": {
    "name": "ipython",
    "version": 3
   },
   "file_extension": ".py",
   "mimetype": "text/x-python",
   "name": "python",
   "nbconvert_exporter": "python",
   "pygments_lexer": "ipython3",
   "version": "3.12.7"
  }
 },
 "nbformat": 4,
 "nbformat_minor": 5
}
